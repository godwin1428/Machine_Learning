{
  "nbformat": 4,
  "nbformat_minor": 0,
  "metadata": {
    "colab": {
      "provenance": []
    },
    "kernelspec": {
      "name": "python3",
      "display_name": "Python 3"
    },
    "language_info": {
      "name": "python"
    }
  },
  "cells": [
    {
      "cell_type": "markdown",
      "source": [
        "Naive Bayees\n"
      ],
      "metadata": {
        "id": "nS2OfDj6FjSP"
      }
    },
    {
      "cell_type": "code",
      "source": [
        "import pandas as pd\n",
        "\n",
        "# Load the dataset\n",
        "data = pd.read_csv('enjoysport.csv')\n",
        "\n",
        "# Separate features and target\n",
        "X = data.iloc[:, :-1]   # All columns except the last\n",
        "y = data.iloc[:, -1]    # Last column: EnjoySport\n",
        "\n",
        "# Get unique class labels\n",
        "classes = y.unique()\n",
        "\n",
        "# Calculate prior probabilities\n",
        "priors = {c: sum(y == c) / len(y) for c in classes}\n",
        "\n",
        "# Calculate conditional probabilities\n",
        "cond_probs = {}\n",
        "for col in X.columns:\n",
        "    cond_probs[col] = {}\n",
        "    for val in X[col].unique():\n",
        "        cond_probs[col][val] = {}\n",
        "        for c in classes:\n",
        "            count = sum((X[col] == val) & (y == c))\n",
        "            total = sum(y == c)\n",
        "            cond_probs[col][val][c] = count / total if total != 0 else 0\n",
        "\n",
        "# Naive Bayes prediction function\n",
        "def predict(instance):\n",
        "    results = {}\n",
        "    for c in classes:\n",
        "        prob = priors[c]\n",
        "        for col in X.columns:\n",
        "            val = instance[col]\n",
        "            prob *= cond_probs[col].get(val, {}).get(c, 0)\n",
        "        results[c] = prob\n",
        "    return max(results, key=results.get)\n",
        "\n",
        "# Test a sample instance\n",
        "test_instance = {'sky': 'Sunny', 'airtemp': 'Warm', 'humidity': 'High',\n",
        "                 'wind': 'Strong', 'water': 'Warm', 'forcast': 'Same'}\n",
        "\n",
        "print(\"Prediction:\", predict(test_instance))"
      ],
      "metadata": {
        "colab": {
          "base_uri": "https://localhost:8080/"
        },
        "id": "bCPz3IpvGaZB",
        "outputId": "4744b889-ecb4-4ee7-9e66-1cbea559788b"
      },
      "execution_count": 12,
      "outputs": [
        {
          "output_type": "stream",
          "name": "stdout",
          "text": [
            "Prediction: yes\n"
          ]
        }
      ]
    },
    {
      "cell_type": "markdown",
      "source": [
        "KNN"
      ],
      "metadata": {
        "id": "-5e9gheRHJN4"
      }
    },
    {
      "cell_type": "code",
      "source": [
        "import pandas as pd\n",
        "from sklearn.preprocessing import LabelEncoder\n",
        "from sklearn.neighbors import KNeighborsClassifier\n",
        "\n",
        "data=pd.read_csv('enjoysport.csv')\n",
        "X=data.iloc[:,:-1].copy() # Use .copy() to avoid SettingWithCopyWarning\n",
        "y=data.iloc[:,-1]\n",
        "\n",
        "encoders=[LabelEncoder()for _ in X.columns]\n",
        "for i,col in enumerate(X.columns):\n",
        "        X.loc[:, col]=encoders[i].fit_transform(X[col]) # Use .loc for assignment\n",
        "y_enc=LabelEncoder()\n",
        "y=y_enc.fit_transform(y)\n",
        "\n",
        "knn=KNeighborsClassifier(n_neighbors=3)\n",
        "knn.fit(X,y)\n",
        "\n",
        "test=pd.DataFrame([['Sunny','Warm','High','Strong','Warm','Same']],columns=X.columns)\n",
        "\n",
        "# Convert test instance values to lowercase to match training data\n",
        "for col in test.columns:\n",
        "    test[col] = test[col].str.lower()\n",
        "\n",
        "for i,col in enumerate(test.columns):\n",
        "        test.loc[:, col]=encoders[i].transform(test[col]) # Use .loc for assignment\n",
        "\n",
        "print(\"prediction:\",y_enc.inverse_transform(knn.predict(test))[0])"
      ],
      "metadata": {
        "colab": {
          "base_uri": "https://localhost:8080/"
        },
        "id": "0hyoBeOAI-z4",
        "outputId": "fae97fc4-b402-463d-e1c3-0c9b2a049648"
      },
      "execution_count": 38,
      "outputs": [
        {
          "output_type": "stream",
          "name": "stdout",
          "text": [
            "prediction: yes\n"
          ]
        }
      ]
    },
    {
      "cell_type": "markdown",
      "source": [
        "Logistic Regression"
      ],
      "metadata": {
        "id": "F0tRypykJNtW"
      }
    },
    {
      "cell_type": "code",
      "source": [
        "from sklearn.datasets import make_classification\n",
        "from matplotlib import pyplot as plt\n",
        "from sklearn.linear_model import LogisticRegression\n",
        "from sklearn.model_selection import train_test_split\n",
        "from sklearn.metrics import confusion_matrix\n",
        "import pandas as pd\n",
        "x,y=make_classification(n_samples=1000,n_features=20,n_informative=15,n_redundant=5,random_state=42)\n",
        "x_train,x_test,y_train,y_test=train_test_split(x,y,test_size=0.2,random_state=42)\n",
        "log_reg=LogisticRegression(max_iter=1000)\n",
        "log_reg.fit(x_train,y_train)\n",
        "y_pred=log_reg.predict(x_test)\n",
        "cm=confusion_matrix(y_test,y_pred)\n",
        "print(pd.DataFrame(cm,columns=['Pred0','Pred1'],index=['True0','True1']))\n",
        "plt.matshow(cm)\n",
        "plt.xlabel('Predicted')\n",
        "plt.ylabel('Actual')\n",
        "plt.show()\n"
      ],
      "metadata": {
        "colab": {
          "base_uri": "https://localhost:8080/",
          "height": 511
        },
        "id": "r9wkVzkfKMhd",
        "outputId": "cc3450b7-47af-48fc-d1d4-e51b2dba39b8"
      },
      "execution_count": 41,
      "outputs": [
        {
          "output_type": "stream",
          "name": "stdout",
          "text": [
            "       Pred0  Pred1\n",
            "True0     89     17\n",
            "True1     18     76\n"
          ]
        },
        {
          "output_type": "display_data",
          "data": {
            "text/plain": [
              "<Figure size 480x480 with 1 Axes>"
            ],
            "image/png": "[encoded data removed]"
          },
          "metadata": {}
        }
      ]
    },
    {
      "cell_type": "markdown",
      "source": [
        "polynomial regression"
      ],
      "metadata": {
        "id": "OSlyJaDJLHcK"
      }
    },
    {
      "cell_type": "code",
      "source": [
        "import pandas as pd\n",
        "from sklearn.preprocessing import LabelEncoder, PolynomialFeatures\n",
        "from sklearn.linear_model import LinearRegression\n",
        "from sklearn.metrics import accuracy_score\n",
        "from sklearn.model_selection import train_test_split\n",
        "import numpy as np\n",
        "\n",
        "# Load dataset\n",
        "data = pd.read_csv(\"enjoysport.csv\")\n",
        "\n",
        "# Separate features and target before encoding\n",
        "X = data.drop(\"enjoysport\", axis=1)\n",
        "y = data[\"enjoysport\"]\n",
        "\n",
        "# Encode categorical features in X\n",
        "le_features = {}\n",
        "for column in X.columns:\n",
        "    le = LabelEncoder()\n",
        "    X[column] = le.fit_transform(X[column])\n",
        "    le_features[column] = le # Store the encoder for later use\n",
        "\n",
        "# Encode target variable y\n",
        "le_target = LabelEncoder()\n",
        "y = le_target.fit_transform(y)\n",
        "\n",
        "# Polynomial feature transformation (degree=2)\n",
        "poly = PolynomialFeatures(degree=2)\n",
        "X_poly = poly.fit_transform(X)\n",
        "\n",
        "# Train-test split\n",
        "X_train, X_test, y_train, y_test = train_test_split(X_poly, y, test_size=0.25, random_state=42)\n",
        "\n",
        "# Polynomial Regression model\n",
        "model = LinearRegression()\n",
        "model.fit(X_train, y_train)\n",
        "\n",
        "# Predict on test set and round to 0 or 1 (binary classification)\n",
        "y_pred = np.round(model.predict(X_test))\n",
        "\n",
        "# Accuracy\n",
        "accuracy = accuracy_score(y_test, y_pred)\n",
        "print(\"Accuracy:\", accuracy)\n",
        "\n",
        "# Predict for a new sample (e.g., Sunny Warm High Strong Cool Change)\n",
        "sample = ['Sunny', 'Warm', 'High', 'Strong', 'Cool', 'Change']\n",
        "sample_df = pd.DataFrame([sample], columns=[\"Sky\", \"AirTemp\", \"Humidity\", \"Wind\", \"Water\", \"Forecast\"])\n",
        "\n",
        "# Convert sample_df values to lowercase to match training data\n",
        "for col in sample_df.columns:\n",
        "    sample_df[col] = sample_df[col].str.lower()\n",
        "\n",
        "# Encode the sample using the fitted encoders\n",
        "sample_encoded = pd.DataFrame()\n",
        "for i, column in enumerate(X.columns): # Iterate through original column names\n",
        "    sample_encoded[column] = le_features[column].transform(sample_df.iloc[:, i])\n",
        "\n",
        "\n",
        "# Apply polynomial transformation to the encoded sample\n",
        "sample_poly = poly.transform(sample_encoded)\n",
        "\n",
        "prediction = np.round(model.predict(sample_poly))\n",
        "print(\"Prediction (1=Yes, 0=No):\", int(prediction[0]))"
      ],
      "metadata": {
        "colab": {
          "base_uri": "https://localhost:8080/"
        },
        "id": "HncZ44fSLXLx",
        "outputId": "6438a1b6-8f3f-4c43-9b81-43722d027a5d"
      },
      "execution_count": 45,
      "outputs": [
        {
          "output_type": "stream",
          "name": "stdout",
          "text": [
            "Accuracy: 1.0\n",
            "Prediction (1=Yes, 0=No): 1\n"
          ]
        }
      ]
    }
  ]
}